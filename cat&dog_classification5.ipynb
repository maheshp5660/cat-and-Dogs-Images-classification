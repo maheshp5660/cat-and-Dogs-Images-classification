{
  "nbformat": 4,
  "nbformat_minor": 0,
  "metadata": {
    "colab": {
      "provenance": []
    },
    "kernelspec": {
      "name": "python3",
      "display_name": "Python 3"
    },
    "language_info": {
      "name": "python"
    },
    "accelerator": "GPU",
    "gpuClass": "standard"
  },
  "cells": [
    {
      "cell_type": "code",
      "source": [],
      "metadata": {
        "id": "luaIGfTxdzzQ"
      },
      "execution_count": null,
      "outputs": []
    },
    {
      "cell_type": "code",
      "source": [],
      "metadata": {
        "id": "1E_YOdHzdz6s"
      },
      "execution_count": null,
      "outputs": []
    },
    {
      "cell_type": "code",
      "source": [
        "import pandas as pd\n",
        "import numpy as np\n",
        "import matplotlib.pyplot as plt\n",
        "%matplotlib inline \n",
        "import seaborn as sns\n",
        "import tensorflow as tf\n",
        "from tensorflow.keras.models import Sequential,load_model\n",
        "from tensorflow.keras.layers import Dense,Flatten,Conv2D,MaxPool2D,MaxPooling2D,Dropout\n",
        "from tensorflow.keras.preprocessing.image import ImageDataGenerator,load_img\n",
        "from tensorflow.keras.preprocessing import image \n",
        "from google.colab.patches import cv2_imshow "
      ],
      "metadata": {
        "id": "BUgNwMlkd0Bq"
      },
      "execution_count": null,
      "outputs": []
    },
    {
      "cell_type": "code",
      "source": [],
      "metadata": {
        "id": "chB4bYysd0Ho"
      },
      "execution_count": null,
      "outputs": []
    },
    {
      "cell_type": "code",
      "source": [
        "# create ImageDataGenerators\n",
        "train_datagen = ImageDataGenerator(rescale=1./255)\n",
        "test_datagen = ImageDataGenerator(rescale=1./255)\n",
        "\n",
        "# load and prepare the training data\n",
        "train_generator = train_datagen.flow_from_directory(\n",
        "        '/content/drive/MyDrive/dataset/train',\n",
        "        target_size=(64, 64),\n",
        "        batch_size=32,\n",
        "        class_mode='binary')\n",
        "\n",
        "# load and prepare the test data\n",
        "test_generator = test_datagen.flow_from_directory(\n",
        "        '/content/drive/MyDrive/dataset/test',\n",
        "        target_size=(64, 64),\n",
        "        batch_size=32,\n",
        "        class_mode='binary')"
      ],
      "metadata": {
        "colab": {
          "base_uri": "https://localhost:8080/"
        },
        "id": "NfZsO2C3d0NP",
        "outputId": "77b92599-e1ba-4b9f-8edb-e8971020c61f"
      },
      "execution_count": null,
      "outputs": [
        {
          "output_type": "stream",
          "name": "stdout",
          "text": [
            "Found 557 images belonging to 2 classes.\n",
            "Found 140 images belonging to 2 classes.\n"
          ]
        }
      ]
    },
    {
      "cell_type": "code",
      "source": [],
      "metadata": {
        "id": "_F16tbVRd0S0"
      },
      "execution_count": null,
      "outputs": []
    },
    {
      "cell_type": "code",
      "source": [
        "# create a CNN classifier model\n",
        "CNN_Classifier = tf.keras.models.Sequential([\n",
        "    tf.keras.layers.Conv2D(filters=32, kernel_size=3, activation='relu', input_shape=(64,64,3)),\n",
        "    tf.keras.layers.MaxPooling2D(pool_size=2, strides=2),\n",
        "    tf.keras.layers.Flatten(),\n",
        "    tf.keras.layers.Dense(units=128, activation='relu'),\n",
        "    tf.keras.layers.Dense(units=1, activation='sigmoid')\n",
        "])"
      ],
      "metadata": {
        "id": "x4SqxDiUd0YA"
      },
      "execution_count": null,
      "outputs": []
    },
    {
      "cell_type": "code",
      "source": [
        "# compile the model\n",
        "CNN_Classifier.compile(optimizer='adam', loss='binary_crossentropy', metrics=['accuracy'])\n"
      ],
      "metadata": {
        "id": "h_lo3lgFd0dQ"
      },
      "execution_count": null,
      "outputs": []
    },
    {
      "cell_type": "code",
      "source": [
        "CNN_Classifier.summary()"
      ],
      "metadata": {
        "colab": {
          "base_uri": "https://localhost:8080/"
        },
        "id": "yIYQkakmd0iY",
        "outputId": "1eb4d33f-a601-433b-cc9f-8a30b348bf4a"
      },
      "execution_count": null,
      "outputs": [
        {
          "output_type": "stream",
          "name": "stdout",
          "text": [
            "Model: \"sequential\"\n",
            "_________________________________________________________________\n",
            " Layer (type)                Output Shape              Param #   \n",
            "=================================================================\n",
            " conv2d (Conv2D)             (None, 62, 62, 32)        896       \n",
            "                                                                 \n",
            " max_pooling2d (MaxPooling2D  (None, 31, 31, 32)       0         \n",
            " )                                                               \n",
            "                                                                 \n",
            " flatten (Flatten)           (None, 30752)             0         \n",
            "                                                                 \n",
            " dense (Dense)               (None, 128)               3936384   \n",
            "                                                                 \n",
            " dense_1 (Dense)             (None, 1)                 129       \n",
            "                                                                 \n",
            "=================================================================\n",
            "Total params: 3,937,409\n",
            "Trainable params: 3,937,409\n",
            "Non-trainable params: 0\n",
            "_________________________________________________________________\n"
          ]
        }
      ]
    },
    {
      "cell_type": "code",
      "source": [],
      "metadata": {
        "id": "EJPyvUHHd0nZ"
      },
      "execution_count": null,
      "outputs": []
    },
    {
      "cell_type": "code",
      "source": [
        "history = CNN_Classifier.fit(\n",
        "    train_generator,\n",
        "    steps_per_epoch=len(train_generator),\n",
        "    epochs=15,\n",
        "    validation_data=test_generator,\n",
        "    validation_steps=len(test_generator)\n",
        ")"
      ],
      "metadata": {
        "colab": {
          "base_uri": "https://localhost:8080/"
        },
        "id": "k4W6zgxqfSVO",
        "outputId": "7d1df1e3-a49f-44fe-9c18-bfdfd4ce5420"
      },
      "execution_count": null,
      "outputs": [
        {
          "output_type": "stream",
          "name": "stdout",
          "text": [
            "Epoch 1/15\n",
            "18/18 [==============================] - 250s 13s/step - loss: 0.8625 - accuracy: 0.4704 - val_loss: 0.7012 - val_accuracy: 0.5000\n",
            "Epoch 2/15\n",
            "18/18 [==============================] - 11s 591ms/step - loss: 0.6863 - accuracy: 0.5368 - val_loss: 0.6898 - val_accuracy: 0.5000\n",
            "Epoch 3/15\n",
            "18/18 [==============================] - 13s 717ms/step - loss: 0.6396 - accuracy: 0.6284 - val_loss: 0.6778 - val_accuracy: 0.5714\n",
            "Epoch 4/15\n",
            "18/18 [==============================] - 13s 700ms/step - loss: 0.5701 - accuracy: 0.7289 - val_loss: 0.7318 - val_accuracy: 0.5357\n",
            "Epoch 5/15\n",
            "18/18 [==============================] - 10s 559ms/step - loss: 0.4827 - accuracy: 0.8259 - val_loss: 0.6488 - val_accuracy: 0.6500\n",
            "Epoch 6/15\n",
            "18/18 [==============================] - 10s 534ms/step - loss: 0.4131 - accuracy: 0.8618 - val_loss: 0.6964 - val_accuracy: 0.6071\n",
            "Epoch 7/15\n",
            "18/18 [==============================] - 11s 598ms/step - loss: 0.3466 - accuracy: 0.8779 - val_loss: 0.6602 - val_accuracy: 0.6071\n",
            "Epoch 8/15\n",
            "18/18 [==============================] - 11s 594ms/step - loss: 0.2870 - accuracy: 0.9318 - val_loss: 0.6514 - val_accuracy: 0.6429\n",
            "Epoch 9/15\n",
            "18/18 [==============================] - 10s 557ms/step - loss: 0.2243 - accuracy: 0.9443 - val_loss: 0.6459 - val_accuracy: 0.6714\n",
            "Epoch 10/15\n",
            "18/18 [==============================] - 10s 533ms/step - loss: 0.1707 - accuracy: 0.9785 - val_loss: 0.7288 - val_accuracy: 0.5786\n",
            "Epoch 11/15\n",
            "18/18 [==============================] - 11s 603ms/step - loss: 0.1511 - accuracy: 0.9623 - val_loss: 0.7053 - val_accuracy: 0.6357\n",
            "Epoch 12/15\n",
            "18/18 [==============================] - 11s 617ms/step - loss: 0.1043 - accuracy: 0.9928 - val_loss: 0.7546 - val_accuracy: 0.6500\n",
            "Epoch 13/15\n",
            "18/18 [==============================] - 10s 587ms/step - loss: 0.0924 - accuracy: 0.9910 - val_loss: 0.8582 - val_accuracy: 0.6071\n",
            "Epoch 14/15\n",
            "18/18 [==============================] - 11s 606ms/step - loss: 0.0657 - accuracy: 0.9964 - val_loss: 0.8295 - val_accuracy: 0.6500\n",
            "Epoch 15/15\n",
            "18/18 [==============================] - 10s 595ms/step - loss: 0.0547 - accuracy: 0.9964 - val_loss: 0.8257 - val_accuracy: 0.6500\n"
          ]
        }
      ]
    },
    {
      "cell_type": "code",
      "source": [],
      "metadata": {
        "id": "yxaIkORPfSb6"
      },
      "execution_count": null,
      "outputs": []
    },
    {
      "cell_type": "code",
      "source": [],
      "metadata": {
        "id": "A9JzYDageOW5"
      },
      "execution_count": null,
      "outputs": []
    },
    {
      "cell_type": "code",
      "source": [
        "# save the model\n",
        "CNN_Classifier.save('Cat_Dog_classifier.h5')"
      ],
      "metadata": {
        "id": "7sIHtwEneOcQ"
      },
      "execution_count": null,
      "outputs": []
    },
    {
      "cell_type": "code",
      "source": [
        "# load the saved model\n",
        "CNN_Classifier = tf.keras.models.load_model('Cat_Dog_classifier.h5')\n"
      ],
      "metadata": {
        "id": "ZYPWilvkeOha"
      },
      "execution_count": null,
      "outputs": []
    },
    {
      "cell_type": "code",
      "source": [
        "from tensorflow.keras.preprocessing import image\n",
        "img1 = image.load_img('/content/drive/MyDrive/dataset/test/cats/cat_113.jpg', target_size=(64, 64))\n",
        "img = image.img_to_array(img1)\n",
        "img = img/255\n",
        "img = np.expand_dims(img, axis=0)\n",
        "prediction = CNN_Classifier.predict(img)\n"
      ],
      "metadata": {
        "colab": {
          "base_uri": "https://localhost:8080/"
        },
        "id": "EgN52Er6eYqC",
        "outputId": "46a958c2-343b-408e-85bb-c13c3a733186"
      },
      "execution_count": null,
      "outputs": [
        {
          "output_type": "stream",
          "name": "stdout",
          "text": [
            "1/1 [==============================] - 0s 165ms/step\n"
          ]
        }
      ]
    },
    {
      "cell_type": "code",
      "source": [
        "if(prediction[0,0]>0.5):\n",
        "    print('Dog :%1.2f'%(prediction[0,0]))\n",
        "else:\n",
        "    print('Cat :%1.2f'%(1.0-prediction[0,0]))\n"
      ],
      "metadata": {
        "colab": {
          "base_uri": "https://localhost:8080/"
        },
        "id": "Dh0Og6dTiqbp",
        "outputId": "9436572f-ddd8-4d38-8a50-2d53f2e79a03"
      },
      "execution_count": null,
      "outputs": [
        {
          "output_type": "stream",
          "name": "stdout",
          "text": [
            "Cat :0.68\n"
          ]
        }
      ]
    },
    {
      "cell_type": "code",
      "source": [],
      "metadata": {
        "id": "GDMnuyZReY0l"
      },
      "execution_count": null,
      "outputs": []
    },
    {
      "cell_type": "code",
      "source": [
        "from tensorflow.keras.preprocessing import image\n",
        "img1 = image.load_img('/content/drive/MyDrive/dataset/test/dogs/dog_141.jpg', target_size=(64, 64))\n",
        "img = image.img_to_array(img1)\n",
        "img = img/255\n",
        "img = np.expand_dims(img, axis=0)\n",
        "prediction = CNN_Classifier.predict(img)\n"
      ],
      "metadata": {
        "colab": {
          "base_uri": "https://localhost:8080/"
        },
        "id": "QvC9vd9QeY6L",
        "outputId": "874a6a8c-5df7-4d27-e29f-8c5fca4c711c"
      },
      "execution_count": null,
      "outputs": [
        {
          "output_type": "stream",
          "name": "stdout",
          "text": [
            "1/1 [==============================] - 0s 21ms/step\n"
          ]
        }
      ]
    },
    {
      "cell_type": "code",
      "source": [
        "if(prediction[0,0]>0.5):\n",
        "    print('Dog :%1.2f'%(prediction[0,0]))\n",
        "else:\n",
        "    print('Cat :%1.2f'%(1.0-prediction[0,0]))\n"
      ],
      "metadata": {
        "colab": {
          "base_uri": "https://localhost:8080/"
        },
        "id": "ktRtTHiWeY-9",
        "outputId": "8b5c3436-a021-41cf-b44f-ad86e5832a8c"
      },
      "execution_count": null,
      "outputs": [
        {
          "output_type": "stream",
          "name": "stdout",
          "text": [
            "Dog :0.99\n"
          ]
        }
      ]
    },
    {
      "cell_type": "code",
      "source": [],
      "metadata": {
        "id": "s4hE68ce0nhM"
      },
      "execution_count": null,
      "outputs": []
    }
  ]
}